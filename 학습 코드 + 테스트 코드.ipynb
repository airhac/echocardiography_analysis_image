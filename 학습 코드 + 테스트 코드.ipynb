{
  "nbformat": 4,
  "nbformat_minor": 0,
  "metadata": {
    "interpreter": {
      "hash": "aef86ecde3b819eb6b52ea06bad9a442ab170735d44ffa5c6d220a8909b55148"
    },
    "kernelspec": {
      "display_name": "Python 3.7.11 64-bit ('conda_test': conda)",
      "name": "python3"
    },
    "language_info": {
      "codemirror_mode": {
        "name": "ipython",
        "version": 3
      },
      "file_extension": ".py",
      "mimetype": "text/x-python",
      "name": "python",
      "nbconvert_exporter": "python",
      "pygments_lexer": "ipython3",
      "version": "3.7.11"
    },
    "orig_nbformat": 4,
    "colab": {
      "name": "test_code.ipynb",
      "provenance": [],
      "collapsed_sections": [],
      "machine_shape": "hm"
    }
  },
  "cells": [
    {
      "cell_type": "code",
      "metadata": {
        "colab": {
          "base_uri": "https://localhost:8080/"
        },
        "id": "6c3K54C8AYmZ",
        "outputId": "443755fb-25b3-422b-b5e8-b8dff34cb983"
      },
      "source": [
        "import os\n",
        "import numpy as np\n",
        "from PIL import Image\n",
        "import cv2\n",
        "import tensorflow as tf\n",
        "from tensorflow.keras import backend as K\n",
        "from tensorflow.keras.models import load_model\n",
        "\n",
        "# 학습 데이터 경로 설정, 데이터 전처리( 코랩용 코드 )\n",
        "\n",
        "a2c_train_PATH = '/content/drive/MyDrive/의료인공지능 공모전/echocardiography/train/A2C/'# train a2c 파일경로를 넣어주면 됩니다.(Validate)\n",
        "a4c_train_PATH = '/content/drive/MyDrive/의료인공지능 공모전/echocardiography/train/A2C/'# train a4c 파일경로를 넣어주면 됩니다.(Validate)\n",
        "a2c_test_PATH =  '/content/drive/MyDrive/의료인공지능 공모전/echocardiography/validation/A2C/' # test a2c 파일경로를 넣어주면 됩니다.(Validate)\n",
        "a4c_test_PATH =  '/content/drive/MyDrive/의료인공지능 공모전/echocardiography/validation/A4C/'  # test a4c 파일경로를 넣어주면 됩니다.(Validate)\n",
        "model2.load_weights('/content/a2c_weight.h5')#가지고온 A2C 가중치 저장\n",
        "model4.load_weights('/content/a4c_weight.h5')#가지고온 A4C 가중치 저장\n",
        "\n",
        "IMAGE_SIZE = 224\n",
        "\n",
        "\n",
        "def file_path(PATH, TYPE):\n",
        "    file_list = []\n",
        "    file_name_list = os.listdir(PATH)\n",
        "    file_list = [PATH +  file for file in file_name_list if file.endswith(TYPE)]\n",
        "    file_list.sort()\n",
        "    return file_list\n",
        "\n",
        "\n",
        "def row_dataset(PATH):\n",
        "    row_img = [np.array(Image.open(img_root).convert('L'))for img_root in file_path(PATH, '.png')]\n",
        "    row_label = [np.load(label) for label in file_path(PATH, '.npy')]\n",
        "    return row_img, row_label\n",
        "\n",
        "\n",
        "def resize_img(row_img, interpolation):\n",
        "    resize_img =  np.array([ cv2.resize(img, dsize=(IMAGE_SIZE, IMAGE_SIZE), interpolation=interpolation)  for img in row_img])\n",
        "    resize_img = resize_img.reshape(resize_img.shape[0], resize_img.shape[1], resize_img.shape[2], 1)\n",
        "    return resize_img\n",
        "\n",
        "#학습 시킬 이미지 전처리(train data)\n",
        "def img_preprocessing(file_list, IMAGE_SIZE):\n",
        "\n",
        "    def img_resize(img, IMAGE_SIZE):\n",
        "        gray_img = cv2.cvtColor(np.array(Image.open(img)), cv2.COLOR_BGR2GRAY)\n",
        "        resize_img = cv2.resize(gray_img, dsize=(IMAGE_SIZE, IMAGE_SIZE), interpolation=cv2.INTER_AREA)\n",
        "        return resize_img\n",
        "\n",
        "    train_img = np.array([img_resize(img, IMAGE_SIZE) for img in file_list])\n",
        "    x_input = train_img.reshape(train_img.shape[0], train_img.shape[1], train_img.shape[2], 1)\n",
        "    return x_input\n",
        "\n",
        "#a2c_train_data\n",
        "a2c_train_img = img_preprocessing(file_path(a2c_train_PATH, '.png'), IMAGE_SIZE)\n",
        "a2c_test_img = img_preprocessing(file_path(a2c_test_PATH, '.png'), IMAGE_SIZE)\n",
        "\n",
        "a2c_train_label = np.array([cv2.resize(np.load(label), dsize=(IMAGE_SIZE, IMAGE_SIZE), interpolation=cv2.INTER_AREA) for label in file_path(a2c_train_PATH, '.npy')])\n",
        "a2c_train_label = a2c_train_label.reshape(a2c_train_label.shape[0], a2c_train_label.shape[1], a2c_train_label.shape[2], 1)\n",
        "\n",
        "a2c_test_label = np.array([cv2.resize(np.load(label), dsize=(IMAGE_SIZE, IMAGE_SIZE), interpolation=cv2.INTER_AREA) for label in file_path(a2c_test_PATH, '.npy')])\n",
        "a2c_test_label = a2c_test_label.reshape(a2c_test_label.shape[0], a2c_test_label.shape[1], a2c_test_label.shape[2], 1)\n",
        "#a4c_train_data\n",
        "a4c_train_img = img_preprocessing(file_path(a4c_train_PATH, '.png'), IMAGE_SIZE)\n",
        "a4c_test_img = img_preprocessing(file_path(a4c_test_PATH, '.png'), IMAGE_SIZE)\n",
        "\n",
        "a4c_train_label = np.array([cv2.resize(np.load(label), dsize=(IMAGE_SIZE, IMAGE_SIZE), interpolation=cv2.INTER_AREA) for label in file_path(a4c_train_PATH, '.npy')])\n",
        "a4c_train_label = a4c_train_label.reshape(a4c_train_label.shape[0], a4c_train_label.shape[1], a4c_train_label.shape[2], 1)\n",
        "\n",
        "a4c_test_label = np.array([cv2.resize(np.load(label), dsize=(IMAGE_SIZE, IMAGE_SIZE), interpolation=cv2.INTER_AREA) for label in file_path(a4c_test_PATH, '.npy')])\n",
        "a4c_test_label = a4c_test_label.reshape(a4c_test_label.shape[0], a4c_test_label.shape[1], a4c_test_label.shape[2], 1)\n",
        "#test데이터 생성\n",
        "a2c_row_img, a2c_row_label =  row_dataset(a2c_test_PATH)\n",
        "a4c_row_img, a4c_row_label =  row_dataset(a4c_test_PATH)\n",
        "\n",
        "a2c_img, a2c_label = resize_img(a2c_row_img, cv2.INTER_AREA) , resize_img(a2c_row_label, cv2.INTER_AREA)\n",
        "a4c_img, a4c_label = resize_img(a4c_row_img, cv2.INTER_AREA) , resize_img(a4c_row_label, cv2.INTER_AREA)\n",
        "\n",
        "\n",
        "a2c_img.shape, a2c_label.shape, a4c_img.shape, a4c_label.shape"
      ],
      "execution_count": 71,
      "outputs": [
        {
          "output_type": "execute_result",
          "data": {
            "text/plain": [
              "((100, 224, 224, 1),\n",
              " (100, 224, 224, 1),\n",
              " (100, 224, 224, 1),\n",
              " (100, 224, 224, 1))"
            ]
          },
          "metadata": {},
          "execution_count": 71
        }
      ]
    },
    {
      "cell_type": "code",
      "metadata": {
        "colab": {
          "base_uri": "https://localhost:8080/",
          "height": 234
        },
        "id": "UFumDWN8APiZ",
        "outputId": "e8b367ac-e796-4f91-f80c-d09cf62c3b12"
      },
      "source": [
        "# 학습 데이터 확인\n",
        "import matplotlib.pyplot as plt\n",
        "\n",
        "\n",
        "n = np.random.randint(a2c_train_img.shape[0])\n",
        "test_x = a2c_train_img[n]\n",
        "test_y = a2c_train_label[n]\n",
        "\n",
        "\n",
        "fig = plt.figure()\n",
        "rows = 1; cols = 2\n",
        "\n",
        "ax1 = fig.add_subplot(rows, cols, 1)\n",
        "ax1.set_title('test_img')\n",
        "ax1.imshow(test_x.reshape(IMAGE_SIZE,IMAGE_SIZE), cmap='gray')\n",
        "plt.axis('off')\n",
        "\n",
        "ax2 = fig.add_subplot(rows, cols, 2)\n",
        "ax2.set_title('test_label')\n",
        "ax2.imshow(test_y.reshape(IMAGE_SIZE,IMAGE_SIZE), cmap='gray')\n",
        "\n",
        "fig.tight_layout()\n",
        "plt.axis('off')\n",
        "plt.show()"
      ],
      "execution_count": 73,
      "outputs": [
        {
          "output_type": "display_data",
          "data": {
            "image/png": "[encoded data removed]",
            "text/plain": [
              "<Figure size 432x288 with 2 Axes>"
            ]
          },
          "metadata": {
            "needs_background": "light"
          }
        }
      ]
    },
    {
      "cell_type": "code",
      "metadata": {
        "id": "_ZFiMHUmApA-"
      },
      "source": [
        "#a2c\n",
        "a2c_norm_train_img = a2c_train_img / 255\n",
        "a2c_norm_test_img = a2c_test_img / 255\n",
        "#a4c\n",
        "a4c_norm_train_img = a4c_train_img / 255\n",
        "a4c_norm_test_img = a4c_test_img / 255"
      ],
      "execution_count": 74,
      "outputs": []
    },
    {
      "cell_type": "code",
      "metadata": {
        "id": "HUFTVZakDDyf"
      },
      "source": [
        "\n",
        "import tensorflow as tf\n",
        "from tensorflow.keras.layers import Dense, Input, Activation, Flatten\n",
        "from tensorflow.keras.optimizers import Adam\n",
        "from tensorflow.keras.models import Model, load_model\n",
        "from tensorflow.keras.layers import Conv2D, MaxPooling2D, UpSampling2D, concatenate, Dropout\n",
        "\n",
        "# UNet 모델 사용\n",
        "def UNet(pretrained_weights = None,input_size = (IMAGE_SIZE,IMAGE_SIZE,1)):\n",
        "    inp = Input(input_size)\n",
        "    conv1 = Conv2D(64, 3, activation = 'relu', padding = 'same', kernel_initializer = 'he_normal')(inp)\n",
        "    conv1 = Conv2D(64, 3, activation = 'relu', padding = 'same', kernel_initializer = 'he_normal')(conv1)\n",
        "    pool1 = MaxPooling2D(pool_size=(2, 2))(conv1)\n",
        "    conv2 = Conv2D(128, 3, activation = 'relu', padding = 'same', kernel_initializer = 'he_normal')(pool1)\n",
        "    conv2 = Conv2D(128, 3, activation = 'relu', padding = 'same', kernel_initializer = 'he_normal')(conv2)\n",
        "    pool2 = MaxPooling2D(pool_size=(2, 2))(conv2)\n",
        "    conv3 = Conv2D(256, 3, activation = 'relu', padding = 'same', kernel_initializer = 'he_normal')(pool2)\n",
        "    conv3 = Conv2D(256, 3, activation = 'relu', padding = 'same', kernel_initializer = 'he_normal')(conv3)\n",
        "    pool3 = MaxPooling2D(pool_size=(2, 2))(conv3)\n",
        "    conv4 = Conv2D(512, 3, activation = 'relu', padding = 'same', kernel_initializer = 'he_normal')(pool3)\n",
        "    conv4 = Conv2D(512, 3, activation = 'relu', padding = 'same', kernel_initializer = 'he_normal')(conv4)\n",
        "    drop4 = Dropout(0.5)(conv4)\n",
        "    pool4 = MaxPooling2D(pool_size=(2, 2))(drop4)\n",
        "\n",
        "    conv5 = Conv2D(1024, 3, activation = 'relu', padding = 'same', kernel_initializer = 'he_normal')(pool4)\n",
        "    conv5 = Conv2D(1024, 3, activation = 'relu', padding = 'same', kernel_initializer = 'he_normal')(conv5)\n",
        "    drop5 = Dropout(0.5)(conv5)\n",
        "\n",
        "    up6 = Conv2D(512, 2, activation = 'relu', padding = 'same', kernel_initializer = 'he_normal')(UpSampling2D(size = (2,2))(drop5))\n",
        "    merge6 = concatenate([drop4,up6], axis = 3)\n",
        "    conv6 = Conv2D(512, 3, activation = 'relu', padding = 'same', kernel_initializer = 'he_normal')(merge6)\n",
        "    conv6 = Conv2D(512, 3, activation = 'relu', padding = 'same', kernel_initializer = 'he_normal')(conv6)\n",
        "\n",
        "    up7 = Conv2D(256, 2, activation = 'relu', padding = 'same', kernel_initializer = 'he_normal')(UpSampling2D(size = (2,2))(conv6))\n",
        "    merge7 = concatenate([conv3,up7], axis = 3)\n",
        "    conv7 = Conv2D(256, 3, activation = 'relu', padding = 'same', kernel_initializer = 'he_normal')(merge7)\n",
        "    conv7 = Conv2D(256, 3, activation = 'relu', padding = 'same', kernel_initializer = 'he_normal')(conv7)\n",
        "\n",
        "    up8 = Conv2D(128, 2, activation = 'relu', padding = 'same', kernel_initializer = 'he_normal')(UpSampling2D(size = (2,2))(conv7))\n",
        "    merge8 = concatenate([conv2,up8], axis = 3)\n",
        "    conv8 = Conv2D(128, 3, activation = 'relu', padding = 'same', kernel_initializer = 'he_normal')(merge8)\n",
        "    conv8 = Conv2D(128, 3, activation = 'relu', padding = 'same', kernel_initializer = 'he_normal')(conv8)\n",
        "\n",
        "    up9 = Conv2D(64, 2, activation = 'relu', padding = 'same', kernel_initializer = 'he_normal')(UpSampling2D(size = (2,2))(conv8))\n",
        "    merge9 = concatenate([conv1,up9], axis = 3)\n",
        "    conv9 = Conv2D(64, 3, activation = 'relu', padding = 'same', kernel_initializer = 'he_normal')(merge9)\n",
        "    conv9 = Conv2D(64, 3, activation = 'relu', padding = 'same', kernel_initializer = 'he_normal')(conv9)\n",
        "    conv9 = Conv2D(2, 3, activation = 'relu', padding = 'same', kernel_initializer = 'he_normal')(conv9)\n",
        "    conv10 = Conv2D(1, 1, activation = 'sigmoid')(conv9)\n",
        "\n",
        "    model = Model(inputs = inp, outputs=[conv10])\n",
        "\n",
        "    return model"
      ],
      "execution_count": 75,
      "outputs": []
    },
    {
      "cell_type": "code",
      "metadata": {
        "id": "ceB8KINU9wu7"
      },
      "source": [
        "a2c_model = UNet()\n",
        "a4c_model = UNet()"
      ],
      "execution_count": 76,
      "outputs": []
    },
    {
      "cell_type": "code",
      "metadata": {
        "id": "nHjjYwHXk4cU"
      },
      "source": [
        "def dice_coef(y_true, y_pred, smooth=0):\n",
        "\n",
        "    y_true_f = K.flatten(y_true)\n",
        "    y_pred_f = K.flatten(tf.math.round(y_pred))\n",
        "    intersection = K.sum(y_true_f * y_pred_f)\n",
        "    return (2. * intersection + smooth) / (K.sum(y_true_f) + K.sum(y_pred_f) + smooth)\n",
        "\n",
        "\n",
        "def jaccard(y_true, y_pred, smooth=0):\n",
        "    y_true_f = K.flatten(y_true)\n",
        "    y_pred_f = K.flatten(tf.math.round(y_pred))\n",
        "    intersection = K.sum(y_true_f * y_pred_f)\n",
        "    return ( intersection + smooth) / (K.sum(y_true_f) + K.sum(y_pred_f) - intersection  + smooth)\n",
        "\n",
        "\n",
        "#loss 함수\n",
        "def dice_loss(y_true, y_pred, smooth = 1e-7):\n",
        "    # binary cross entropy loss\n",
        "    bce = tf.keras.losses.BinaryCrossentropy()\n",
        "    bce_loss = bce(y_true, y_pred)\n",
        "\n",
        "    y_true = tf.cast(y_true, tf.float32)\n",
        "\n",
        "    dice = dice_coef(y_true, y_pred, smooth=1)\n",
        "    # dice loss\n",
        "    dice_loss = 1.0 - dice\n",
        "    # total loss\n",
        "    loss = bce_loss + dice_loss\n",
        "    return loss\n",
        "\n",
        "\n",
        "def jaccard_loss(y_true, y_pred, smooth = 1e-7):\n",
        "    # binary cross entropy loss\n",
        "    bce = tf.keras.losses.BinaryCrossentropy()\n",
        "    bce_loss = bce(y_true, y_pred)\n",
        "\n",
        "    y_true = tf.cast(y_true, tf.float32)\n",
        "\n",
        "    jaccard_ = jaccard(y_true, y_pred, smooth=1)\n",
        "    # dice loss\n",
        "    jaccard__loss = 1.0 - dice\n",
        "    # total loss\n",
        "    loss = bce_loss + jaccard__loss\n",
        "    return loss\n",
        "\n",
        "# 원래 라벨 사이즈로 resize 만드는 함수\n",
        "def make_res_label(test_img, row_label, model):\n",
        "    norm_img = test_img/255\n",
        "    int_pred_label = model.predict(norm_img)\n",
        "    resize_label = []\n",
        "    for idx, label in enumerate(row_label):\n",
        "        pred = int_pred_label[idx]\n",
        "        pred = np.where(pred >= 0.44, 1, pred)\n",
        "        pred = np.where(pred <= 0.44, 0, pred)\n",
        "        pred = pred.reshape(pred.shape[0], pred.shape[1])\n",
        "        pred = cv2.resize(pred, dsize=(label.shape[1], label.shape[0]))\n",
        "        resize_label.append(pred)\n",
        "    return resize_label\n",
        "\n",
        "\n",
        "\n",
        "\n",
        "# 이미지별 DSC, JI 측정 후 평균 함수\n",
        "def make_DSC_JI(pred_list, true_list):\n",
        "\n",
        "    def dice_jaccard(pred, true):\n",
        "        y_true_f = true.flatten()\n",
        "        y_pred_f = pred.flatten()\n",
        "        intersection = np.sum(y_true_f * y_pred_f)\n",
        "        dice = (intersection * 2.0) / (np.sum(y_true_f) + np.sum(y_pred_f))\n",
        "        jaccard = intersection / (np.sum(y_true_f) + np.sum(y_pred_f) - intersection)\n",
        "        return dice, jaccard\n",
        "\n",
        "    dice_list = []\n",
        "    jaccard_list = []\n",
        "\n",
        "    for i in range(len(pred_list)):\n",
        "        pred = pred_list[i]\n",
        "        true = true_list[i]\n",
        "        a, b = dice_jaccard(pred, true)\n",
        "        dice_list.append(a)\n",
        "        jaccard_list.append(b)\n",
        "\n",
        "    return np.mean(dice_list), np.mean(jaccard_list)"
      ],
      "execution_count": 77,
      "outputs": []
    },
    {
      "cell_type": "markdown",
      "metadata": {
        "id": "L8BloBhSBGIJ"
      },
      "source": [
        "## a2c 모델 학습하기"
      ]
    },
    {
      "cell_type": "code",
      "metadata": {
        "colab": {
          "base_uri": "https://localhost:8080/"
        },
        "id": "oLbC1MVz9wyF",
        "outputId": "1ff3c24d-110d-421b-95fa-8bbbb1bc08c1"
      },
      "source": [
        "import tensorflow as tf\n",
        "import numpy as np\n",
        "from sklearn.utils import class_weight\n",
        "\n",
        "\n",
        "a2c_model.compile(optimizer = Adam(learning_rate = 1e-4), \n",
        "#               loss = dice_loss, \n",
        "              loss = tf.keras.losses.BinaryCrossentropy(), \n",
        "              sample_weight_mode=\"temporal\",\n",
        "              metrics = ['accuracy',\n",
        "                         dice_coef,\n",
        "                         jaccard])\n",
        "\n",
        "\n",
        "callback_list = [\n",
        "        tf.keras.callbacks.EarlyStopping( \n",
        "        monitor='val_loss',\n",
        "        patience=10       \n",
        "    ),\n",
        "    #     tf.keras.callbacks.ModelCheckpoint( \n",
        "    #     filepath=\"my_model.h5\",\n",
        "    #     monitor='val_loss',\n",
        "    #     save_best_only=True\n",
        "    # )\n",
        "]\n",
        "\n",
        "def add_sample_weights( label):\n",
        "    class_weights = tf.constant([20. , 1.])\n",
        "    class_weights = class_weights/tf.reduce_sum(class_weights)\n",
        "    sample_weights = tf.gather(class_weights, indices=tf.cast(label, tf.int32))\n",
        "    return sample_weights\n",
        "\n",
        "\n",
        "sample_weights = add_sample_weights(a2c_train_label)\n",
        "\n",
        "\n",
        "\n",
        "a2c_model_history = a2c_model.fit(a2c_norm_train_img, a2c_train_label,\n",
        "                            epochs=1000,\n",
        "                            batch_size=1,\n",
        "#                             sample_weight = sample_weights, \n",
        "                            validation_split = 0.2,\n",
        "                            callbacks=callback_list\n",
        "                            )"
      ],
      "execution_count": null,
      "outputs": [
        {
          "output_type": "stream",
          "name": "stdout",
          "text": [
            "Epoch 1/1000\n",
            "640/640 [==============================] - 1043s 2s/step - loss: 0.6788 - accuracy: 0.9540 - dice_coef: 1.4298e-04 - jaccard: 7.4431e-05 - val_loss: 0.6648 - val_accuracy: 0.9543 - val_dice_coef: 0.0000e+00 - val_jaccard: 0.0000e+00\n",
            "Epoch 2/1000\n",
            "640/640 [==============================] - 1039s 2s/step - loss: 0.6511 - accuracy: 0.9553 - dice_coef: 0.0000e+00 - jaccard: 0.0000e+00 - val_loss: 0.6378 - val_accuracy: 0.9543 - val_dice_coef: 0.0000e+00 - val_jaccard: 0.0000e+00\n",
            "Epoch 3/1000\n",
            " 64/640 [==>...........................] - ETA: 14:38 - loss: 0.6364 - accuracy: 0.9556 - dice_coef: 0.0000e+00 - jaccard: 0.0000e+00"
          ]
        }
      ]
    },
    {
      "cell_type": "code",
      "metadata": {
        "id": "A1ZxVu6-B6eU"
      },
      "source": [
        "# 학습 결과 확인\n",
        "\n",
        "n = np.random.randint(a2c_test_img.shape[0])\n",
        "a2c_img_predict = model.predict(a2c_norm_test_img[n:n+1])\n",
        "\n",
        "test_x = a2c_test_img[n]\n",
        "\n",
        "fig = plt.figure()\n",
        "rows = 1; cols = 3\n",
        "\n",
        "\n",
        "ax1 = fig.add_subplot(rows, cols, 1)\n",
        "ax1.set_title('test_img')\n",
        "ax1.imshow(test_x, cmap='gray')\n",
        "plt.axis('off')\n",
        "\n",
        "ax2 = fig.add_subplot(rows, cols, 2)\n",
        "ax2.set_title('test_label')\n",
        "ax2.imshow(test_label[n], cmap='gray')\n",
        "plt.axis('off')\n",
        "\n",
        "ax3 = fig.add_subplot(rows, cols, 3)\n",
        "ax3.set_title('predict_label')\n",
        "ax3.imshow(np.around(a2c_img_predict[0])*255, cmap='gray')\n",
        "plt.axis('off')\n",
        "\n",
        "fig.tight_layout()\n",
        "\n",
        "plt.show()"
      ],
      "execution_count": null,
      "outputs": []
    },
    {
      "cell_type": "code",
      "metadata": {
        "id": "wgcWFgpvB6ne"
      },
      "source": [
        "import gc\n",
        "import tensorflow as tf\n",
        "tf.keras.backend.clear_session()\n",
        "gc.collect()"
      ],
      "execution_count": null,
      "outputs": []
    },
    {
      "cell_type": "code",
      "metadata": {
        "id": "q9LW8LJaB6rI"
      },
      "source": [
        "# 로컬에서 돌릴시 메모리 부족문제로 테스트셋 분할로 평가\n",
        "# model.evaluate(norm_test_img, test_label)\n",
        "\n",
        "\n",
        "a2c_model.evaluate(a2c_norm_test_img[:33], a2c_test_label[:33])"
      ],
      "execution_count": null,
      "outputs": []
    },
    {
      "cell_type": "code",
      "metadata": {
        "id": "t2FtUuW8B6uc"
      },
      "source": [
        "a2c_model.evaluate(a2c_norm_test_img[33:66], a2c_test_label[33:66])"
      ],
      "execution_count": null,
      "outputs": []
    },
    {
      "cell_type": "code",
      "metadata": {
        "id": "vmRDrz59B6xV"
      },
      "source": [
        "a2c_model.evaluate(a2c_norm_test_img[66:], a2c_test_label[66:])"
      ],
      "execution_count": null,
      "outputs": []
    },
    {
      "cell_type": "code",
      "metadata": {
        "id": "Ve54CAFyCBiB"
      },
      "source": [
        "# 모델 학습 정확도 확인\n",
        "\n",
        "\n",
        "import matplotlib.pyplot as plt \n",
        "\n",
        "figs, loss_ax = plt.subplots()\n",
        "acc_ax=loss_ax.twinx()\n",
        "loss_ax.plot(a2c_model_history.history['loss'],'y',label='train loss')\n",
        "loss_ax.plot(a2c_model_history.history['val_loss'],'r',label='val loss')\n",
        "\n",
        "acc_ax.plot(a2c_model_history.history['accuracy'],'b',label='train acc')\n",
        "acc_ax.plot(a2c_model_history.history['val_accuracy'],'g',label='val acc')\n",
        "\n",
        "acc_ax.set_ylabel('accuracy')\n",
        "\n",
        "loss_ax.legend(loc='upper left')\n",
        "acc_ax.legend(loc='lower left')\n",
        "loss_ax.set_xlabel('epoch')\n",
        "loss_ax.set_ylabel('loss')\n",
        "\n",
        "plt.show()"
      ],
      "execution_count": null,
      "outputs": []
    },
    {
      "cell_type": "code",
      "metadata": {
        "id": "u6HVYLf5CBmb"
      },
      "source": [
        "# 모델 학습 정확도 확인\n",
        "\n",
        "\n",
        "import matplotlib.pyplot as plt \n",
        "\n",
        "figs, loss_ax = plt.subplots()\n",
        "\n",
        "loss_ax.plot(a2c_model_history.history['dice_coef'],'y',label='dice')\n",
        "loss_ax.plot(a2c_model_history.history['jaccard'],'r',label='jaccard')\n",
        "\n",
        "\n",
        "loss_ax.set_xlabel('epoch')\n",
        "\n",
        "\n",
        "plt.show()"
      ],
      "execution_count": null,
      "outputs": []
    },
    {
      "cell_type": "code",
      "metadata": {
        "id": "Dc6J-CqTCBqw"
      },
      "source": [
        ""
      ],
      "execution_count": null,
      "outputs": []
    },
    {
      "cell_type": "code",
      "metadata": {
        "id": "4oXHUG1cB61X"
      },
      "source": [
        ""
      ],
      "execution_count": null,
      "outputs": []
    },
    {
      "cell_type": "markdown",
      "metadata": {
        "id": "C1rDIDLVBJyT"
      },
      "source": [
        "##a4c 모델 학습하기"
      ]
    },
    {
      "cell_type": "code",
      "metadata": {
        "id": "J8yGGRqP9w0q"
      },
      "source": [
        "import tensorflow as tf\n",
        "import numpy as np\n",
        "from sklearn.utils import class_weight\n",
        "\n",
        "\n",
        "a4c_model.compile(optimizer = Adam(learning_rate = 1e-4), \n",
        "#               loss = dice_loss, \n",
        "              loss = tf.keras.losses.BinaryCrossentropy(), \n",
        "              sample_weight_mode=\"temporal\",\n",
        "              metrics = ['accuracy',\n",
        "                         dice_coef,\n",
        "                         jaccard])\n",
        "\n",
        "\n",
        "callback_list = [\n",
        "        tf.keras.callbacks.EarlyStopping( \n",
        "        monitor='val_loss',\n",
        "        patience=10       \n",
        "    ),\n",
        "    #     tf.keras.callbacks.ModelCheckpoint( \n",
        "    #     filepath=\"my_model.h5\",\n",
        "    #     monitor='val_loss',\n",
        "    #     save_best_only=True\n",
        "    # )\n",
        "]\n",
        "\n",
        "def add_sample_weights( label):\n",
        "    class_weights = tf.constant([20. , 1.])\n",
        "    class_weights = class_weights/tf.reduce_sum(class_weights)\n",
        "    sample_weights = tf.gather(class_weights, indices=tf.cast(label, tf.int32))\n",
        "    return sample_weights\n",
        "\n",
        "\n",
        "sample_weights = add_sample_weights(a4c_train_label)\n",
        "\n",
        "\n",
        "\n",
        "model_history = a4c_model.fit(a4c_norm_train_img, a4c_train_label,\n",
        "                            epochs=1000,\n",
        "                            batch_size=1,\n",
        "#                             sample_weight = sample_weights, \n",
        "                            validation_split = 0.2,\n",
        "                            callbacks=callback_list\n",
        "                            )"
      ],
      "execution_count": null,
      "outputs": []
    },
    {
      "cell_type": "code",
      "metadata": {
        "id": "_rctJir99w4i"
      },
      "source": [
        "# 학습 결과 확인\n",
        "\n",
        "n = np.random.randint(a4c_test_img.shape[0])\n",
        "a4c_img_predict = model.predict(a4c_norm_test_img[n:n+1])\n",
        "\n",
        "test_x = a4c_test_img[n]\n",
        "\n",
        "fig = plt.figure()\n",
        "rows = 1; cols = 3\n",
        "\n",
        "\n",
        "ax1 = fig.add_subplot(rows, cols, 1)\n",
        "ax1.set_title('test_img')\n",
        "ax1.imshow(test_x, cmap='gray')\n",
        "plt.axis('off')\n",
        "\n",
        "ax2 = fig.add_subplot(rows, cols, 2)\n",
        "ax2.set_title('test_label')\n",
        "ax2.imshow(test_label[n], cmap='gray')\n",
        "plt.axis('off')\n",
        "\n",
        "ax3 = fig.add_subplot(rows, cols, 3)\n",
        "ax3.set_title('predict_label')\n",
        "ax3.imshow(np.around(a4c_img_predict[0])*255, cmap='gray')\n",
        "plt.axis('off')\n",
        "\n",
        "fig.tight_layout()\n",
        "\n",
        "plt.show()"
      ],
      "execution_count": null,
      "outputs": []
    },
    {
      "cell_type": "code",
      "metadata": {
        "id": "bnRKovLo9w81"
      },
      "source": [
        "import gc\n",
        "import tensorflow as tf\n",
        "tf.keras.backend.clear_session()\n",
        "gc.collect()"
      ],
      "execution_count": null,
      "outputs": []
    },
    {
      "cell_type": "code",
      "metadata": {
        "id": "RGfYjgbf9w_S"
      },
      "source": [
        "# 로컬에서 돌릴시 메모리 부족문제로 테스트셋 분할로 평가\n",
        "# model.evaluate(norm_test_img, test_label)\n",
        "\n",
        "\n",
        "a4c_model.evaluate(a4c_norm_test_img[:33], a4c_test_label[:33])"
      ],
      "execution_count": null,
      "outputs": []
    },
    {
      "cell_type": "code",
      "metadata": {
        "id": "9qXiuKcO9xER"
      },
      "source": [
        "# 모델 학습 정확도 확인\n",
        "\n",
        "\n",
        "import matplotlib.pyplot as plt \n",
        "\n",
        "figs, loss_ax = plt.subplots()\n",
        "acc_ax=loss_ax.twinx()\n",
        "loss_ax.plot(a4c_model_history.history['loss'],'y',label='train loss')\n",
        "loss_ax.plot(a4c_model_history.history['val_loss'],'r',label='val loss')\n",
        "\n",
        "acc_ax.plot(a4c_model_history.history['accuracy'],'b',label='train acc')\n",
        "acc_ax.plot(a4c_model_history.history['val_accuracy'],'g',label='val acc')\n",
        "\n",
        "acc_ax.set_ylabel('accuracy')\n",
        "\n",
        "loss_ax.legend(loc='upper left')\n",
        "acc_ax.legend(loc='lower left')\n",
        "loss_ax.set_xlabel('epoch')\n",
        "loss_ax.set_ylabel('loss')\n",
        "\n",
        "plt.show()"
      ],
      "execution_count": null,
      "outputs": []
    },
    {
      "cell_type": "code",
      "metadata": {
        "id": "6yjNNxjEB3ou"
      },
      "source": [
        "# 모델 학습 정확도 확인\n",
        "\n",
        "\n",
        "import matplotlib.pyplot as plt \n",
        "\n",
        "figs, loss_ax = plt.subplots()\n",
        "\n",
        "loss_ax.plot(a4c_model_history.history['dice_coef'],'y',label='dice')\n",
        "loss_ax.plot(a4c_model_history.history['jaccard'],'r',label='jaccard')\n",
        "\n",
        "\n",
        "loss_ax.set_xlabel('epoch')\n",
        "\n",
        "\n",
        "plt.show()"
      ],
      "execution_count": null,
      "outputs": []
    },
    {
      "cell_type": "code",
      "metadata": {
        "id": "YZS-thQUB3rW"
      },
      "source": [
        ""
      ],
      "execution_count": null,
      "outputs": []
    },
    {
      "cell_type": "code",
      "metadata": {
        "id": "3aJuc0sxB3uy"
      },
      "source": [
        ""
      ],
      "execution_count": null,
      "outputs": []
    },
    {
      "cell_type": "code",
      "metadata": {
        "id": "Lc2AyWA6B3xV"
      },
      "source": [
        ""
      ],
      "execution_count": null,
      "outputs": []
    },
    {
      "cell_type": "markdown",
      "metadata": {
        "id": "AmZ4kEuhi1yD"
      },
      "source": [
        ""
      ]
    },
    {
      "cell_type": "markdown",
      "metadata": {
        "id": "S4_Tjt5mPD4y"
      },
      "source": [
        "## 테스트 블록입니다."
      ]
    },
    {
      "cell_type": "code",
      "metadata": {
        "id": "zHCOq9gZB31O"
      },
      "source": [
        ""
      ],
      "execution_count": null,
      "outputs": []
    },
    {
      "cell_type": "markdown",
      "metadata": {
        "id": "DOXiMzgu97P7"
      },
      "source": [
        "## 모델 가중치 저장"
      ]
    },
    {
      "cell_type": "code",
      "metadata": {
        "id": "f0FDj0571P1v"
      },
      "source": [
        "a2c_model.save_weights('a2c_weight.h5')"
      ],
      "execution_count": 36,
      "outputs": []
    },
    {
      "cell_type": "code",
      "metadata": {
        "id": "tXpemMni1P4o"
      },
      "source": [
        "a4c_model.save_weights('a4c_weight.h5')"
      ],
      "execution_count": 35,
      "outputs": []
    },
    {
      "cell_type": "markdown",
      "metadata": {
        "id": "60kn3R7m9yFe"
      },
      "source": [
        "##가중치 불러와서 모델 테스트하기"
      ]
    },
    {
      "cell_type": "code",
      "metadata": {
        "id": "Zc_878Tk3zTH"
      },
      "source": [
        "model2 = UNet()#각 모델의 객체 생성, 가가 들어가는 가중치가 달라서 겹치면 안된다\n",
        "model4 = UNet()"
      ],
      "execution_count": null,
      "outputs": []
    },
    {
      "cell_type": "code",
      "metadata": {
        "id": "hBYz7U6gi1cJ"
      },
      "source": [
        "#a2c_model = load_model('/content/drive/MyDrive/의료인공지능 공모전/echocardiography_analysis_image/a2c_bce_loss_model_best_2.h5',custom_objects={'dice_coef':dice_coef, 'jaccard':jaccard})\n",
        "#a4c_model = load_model('/content/drive/MyDrive/의료인공지능 공모전/echocardiography_analysis_image/a4c_bce_loss_model_base_best.h5',custom_objects={'dice_coef':dice_coef, 'jaccard':jaccard})"
      ],
      "execution_count": 40,
      "outputs": []
    },
    {
      "cell_type": "code",
      "metadata": {
        "id": "rOTTsPkL8Bk4"
      },
      "source": [
        ""
      ],
      "execution_count": null,
      "outputs": []
    },
    {
      "cell_type": "code",
      "metadata": {
        "id": "BIQx59WxjGHh"
      },
      "source": [
        "model2.compile(optimizer = Adam(learning_rate = 1e-4), \n",
        "              loss = tf.keras.losses.BinaryCrossentropy(), \n",
        "              metrics = ['accuracy',\n",
        "                         dice_coef,\n",
        "                         jaccard])\n",
        "model4.compile(optimizer = Adam(learning_rate = 1e-4), \n",
        "              loss = tf.keras.losses.BinaryCrossentropy(), \n",
        "              metrics = ['accuracy',\n",
        "                         dice_coef,\n",
        "                         jaccard])\n",
        "\n",
        "\n",
        "\n",
        "a2c_pred_label = make_res_label(a2c_img, a2c_row_label, model2) # 최종 a2c 라벨\n",
        "a4c_pred_label = make_res_label(a4c_img, a4c_row_label, model4) # 최종 a4c 라벨\n",
        "\n",
        "\n",
        "a2c_DSC, a2c_JI = make_DSC_JI(a2c_row_label, a2c_pred_label)\n",
        "a4c_DSC, a4c_JI = make_DSC_JI(a4c_row_label, a4c_pred_label)"
      ],
      "execution_count": 70,
      "outputs": []
    },
    {
      "cell_type": "code",
      "metadata": {
        "colab": {
          "base_uri": "https://localhost:8080/"
        },
        "id": "ar1VCh-oeis2",
        "outputId": "d7b28964-4f3a-4b3a-a3d9-1042c375b257"
      },
      "source": [
        "print(f'a2c_DSC : {a2c_DSC}, a2c_JI : {a2c_JI}')\n",
        "print(f'a4c_DSC : {a4c_DSC}, a4c_JI : {a4c_JI}')"
      ],
      "execution_count": 30,
      "outputs": [
        {
          "output_type": "stream",
          "name": "stdout",
          "text": [
            "a2c_DSC : 0.9448588318157719, a2c_JI : 0.8978463875943845\n",
            "a4c_DSC : 0.9578616103830556, a4c_JI : 0.9204662000419926\n"
          ]
        }
      ]
    },
    {
      "cell_type": "code",
      "metadata": {
        "id": "KOWQB2vipEdq",
        "colab": {
          "base_uri": "https://localhost:8080/"
        },
        "outputId": "47875466-0bbe-4fed-ded7-0afd44a6c553"
      },
      "source": [
        "a2c_model.evaluate(a2c_img/255, a2c_label)"
      ],
      "execution_count": 31,
      "outputs": [
        {
          "output_type": "stream",
          "name": "stdout",
          "text": [
            "4/4 [==============================] - 37s 8s/step - loss: 0.0123 - accuracy: 0.9953 - dice_coef: 0.9535 - jaccard: 0.9114\n"
          ]
        },
        {
          "output_type": "execute_result",
          "data": {
            "text/plain": [
              "[0.012305477634072304,\n",
              " 0.9953113198280334,\n",
              " 0.9534980058670044,\n",
              " 0.9114193916320801]"
            ]
          },
          "metadata": {},
          "execution_count": 31
        }
      ]
    },
    {
      "cell_type": "code",
      "metadata": {
        "id": "N7yl7-IIpP82",
        "colab": {
          "base_uri": "https://localhost:8080/"
        },
        "outputId": "51d8297c-6b0a-42d0-df63-24f9cca08449"
      },
      "source": [
        "a4c_model.evaluate(a4c_img/255, a4c_label)"
      ],
      "execution_count": 32,
      "outputs": [
        {
          "output_type": "stream",
          "name": "stdout",
          "text": [
            "4/4 [==============================] - 38s 9s/step - loss: 0.0131 - accuracy: 0.9968 - dice_coef: 0.9673 - jaccard: 0.9367\n"
          ]
        },
        {
          "output_type": "execute_result",
          "data": {
            "text/plain": [
              "[0.013106698170304298,\n",
              " 0.9967855215072632,\n",
              " 0.9673000574111938,\n",
              " 0.9367231726646423]"
            ]
          },
          "metadata": {},
          "execution_count": 32
        }
      ]
    }
  ]
}